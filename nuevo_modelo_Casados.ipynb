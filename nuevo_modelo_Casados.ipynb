{
 "cells": [
  {
   "cell_type": "code",
   "execution_count": 2,
   "metadata": {},
   "outputs": [],
   "source": [
    "# Importamos las librerias necesarias para la función que limpia el texto\n",
    "import joblib\n",
    "import re\n",
    "import nltk\n",
    "import matplotlib.pyplot as plt\n",
    "from wordcloud import WordCloud\n",
    "from nltk.corpus import stopwords\n",
    "from nltk import word_tokenize\n",
    "stopwords = stopwords.words('english')\n",
    "stopwords.extend(['s', 've','m', 'u'])\n",
    "from nltk.stem import WordNetLemmatizer\n",
    "lemmatizer = WordNetLemmatizer()"
   ]
  },
  {
   "cell_type": "code",
   "execution_count": 3,
   "metadata": {},
   "outputs": [],
   "source": [
    "# Función que limpia el texto\n",
    "def predicciones_usando_modelo(texto):\n",
    "    modelo= joblib.load('modeloSVC.joblib')\n",
    "    texto = texto.lower()\n",
    "    texto = re.sub(r'([^A-Za-z \\t])|(\\d)', '', texto)\n",
    "    texto = word_tokenize(texto)\n",
    "    texto = [lemmatizer.lemmatize(palabra) for palabra in texto]\n",
    "    texto = [palabra for palabra in texto if palabra not in stopwords]\n",
    "    texto = ' '.join(texto)\n",
    "    return modelo.predict([texto])"
   ]
  },
  {
   "cell_type": "code",
   "execution_count": 4,
   "metadata": {},
   "outputs": [
    {
     "data": {
      "text/plain": [
       "array(['negativo'], dtype=object)"
      ]
     },
     "execution_count": 4,
     "metadata": {},
     "output_type": "execute_result"
    }
   ],
   "source": [
    "# Ejemplo de uso de la función\n",
    "predicciones_usando_modelo('one of the worst purchases I have made')"
   ]
  },
  {
   "cell_type": "code",
   "execution_count": 6,
   "metadata": {},
   "outputs": [
    {
     "data": {
      "text/plain": [
       "array(['positivo'], dtype=object)"
      ]
     },
     "execution_count": 6,
     "metadata": {},
     "output_type": "execute_result"
    }
   ],
   "source": [
    "predicciones_usando_modelo('A purchase that changed my life for the better')"
   ]
  },
  {
   "cell_type": "code",
   "execution_count": null,
   "metadata": {},
   "outputs": [],
   "source": []
  }
 ],
 "metadata": {
  "kernelspec": {
   "display_name": "Python 3",
   "language": "python",
   "name": "python3"
  },
  "language_info": {
   "codemirror_mode": {
    "name": "ipython",
    "version": 3
   },
   "file_extension": ".py",
   "mimetype": "text/x-python",
   "name": "python",
   "nbconvert_exporter": "python",
   "pygments_lexer": "ipython3",
   "version": "3.11.1"
  },
  "orig_nbformat": 4
 },
 "nbformat": 4,
 "nbformat_minor": 2
}
